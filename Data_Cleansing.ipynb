{
  "nbformat": 4,
  "nbformat_minor": 0,
  "metadata": {
    "colab": {
      "name": "Data Cleansing.ipynb",
      "provenance": [],
      "collapsed_sections": [],
      "include_colab_link": true
    },
    "kernelspec": {
      "name": "python3",
      "display_name": "Python 3"
    },
    "language_info": {
      "name": "python"
    }
  },
  "cells": [
    {
      "cell_type": "markdown",
      "metadata": {
        "id": "view-in-github",
        "colab_type": "text"
      },
      "source": [
        "<a href=\"https://colab.research.google.com/github/rizqihilman/rizqihilman/blob/main/Data_Cleansing.ipynb\" target=\"_parent\"><img src=\"https://colab.research.google.com/assets/colab-badge.svg\" alt=\"Open In Colab\"/></a>"
      ]
    },
    {
      "cell_type": "markdown",
      "metadata": {
        "id": "PJz1N2hpddiG"
      },
      "source": [
        "# Import Libraries"
      ]
    },
    {
      "cell_type": "code",
      "source": [
        "from google.colab import drive\n",
        "drive.mount('/content/drive')"
      ],
      "metadata": {
        "id": "I-Ygmj6Sd7dE",
        "colab": {
          "base_uri": "https://localhost:8080/"
        },
        "outputId": "38dae34b-4e6a-4d4c-e32f-a7f7fd0f2292"
      },
      "execution_count": 2,
      "outputs": [
        {
          "output_type": "stream",
          "name": "stdout",
          "text": [
            "Mounted at /content/drive\n"
          ]
        }
      ]
    },
    {
      "cell_type": "code",
      "metadata": {
        "id": "R0d8-03-cuFE"
      },
      "source": [
        "import numpy as np\n",
        "import pandas as pd\n",
        "import matplotlib.pyplot as plt\n",
        "import seaborn as sns"
      ],
      "execution_count": 19,
      "outputs": []
    },
    {
      "cell_type": "markdown",
      "metadata": {
        "id": "L-aiwRvGul7R"
      },
      "source": [
        "# Load Dataset"
      ]
    },
    {
      "cell_type": "code",
      "metadata": {
        "id": "mBoNRgpaumf4"
      },
      "source": [
        "# change the path according to your file location in your Google Drive\n",
        "df = pd.read_csv('/content/drive/MyDrive/botak.csv')"
      ],
      "execution_count": 18,
      "outputs": []
    },
    {
      "cell_type": "code",
      "metadata": {
        "id": "WpHm2z-0q1l8",
        "colab": {
          "base_uri": "https://localhost:8080/"
        },
        "outputId": "ad942db8-a538-4b6a-e0aa-f6ec6bdcedfe"
      },
      "source": [
        "# informasi general tentang dataframe\n",
        "df.info()"
      ],
      "execution_count": 16,
      "outputs": [
        {
          "output_type": "stream",
          "name": "stdout",
          "text": [
            "<class 'pandas.core.frame.DataFrame'>\n",
            "RangeIndex: 621 entries, 0 to 620\n",
            "Data columns (total 17 columns):\n",
            " #   Column              Non-Null Count  Dtype  \n",
            "---  ------              --------------  -----  \n",
            " 0   loan_id             621 non-null    object \n",
            " 1   birth_date          572 non-null    object \n",
            " 2   phone_number        569 non-null    float64\n",
            " 3   gender              608 non-null    object \n",
            " 4   married             618 non-null    object \n",
            " 5   dependents          605 non-null    object \n",
            " 6   education           620 non-null    object \n",
            " 7   self_employed       588 non-null    object \n",
            " 8   applicant_income    612 non-null    float64\n",
            " 9   coapplicant_income  621 non-null    float64\n",
            " 10  loan_amount         621 non-null    int64  \n",
            " 11  loan_term_month     621 non-null    int64  \n",
            " 12  loan_term_year      621 non-null    int64  \n",
            " 13  credit_history      570 non-null    float64\n",
            " 14  has_credit_card     88 non-null     object \n",
            " 15  property_type       620 non-null    object \n",
            " 16  loan_status         621 non-null    object \n",
            "dtypes: float64(4), int64(3), object(10)\n",
            "memory usage: 82.6+ KB\n"
          ]
        }
      ]
    },
    {
      "cell_type": "markdown",
      "metadata": {
        "id": "AKy3JX7au0Zp"
      },
      "source": [
        "Pengamatan\\:\n",
        "1. Data terdiri dari 7991 baris\n",
        "2. Tampak beberapa kolom masih memiliki null/missing values (Non-Null Count < jumlah baris)\n",
        "3. Sepertinya tidak ada issue yang mencolok pada tipe data untuk setiap kolom (sudah sesuai)"
      ]
    },
    {
      "cell_type": "markdown",
      "metadata": {
        "id": "pn4NevFcvaaR"
      },
      "source": [
        "## Cuplikan Data"
      ]
    },
    {
      "cell_type": "code",
      "metadata": {
        "id": "tv2j2hY4vfBD",
        "colab": {
          "base_uri": "https://localhost:8080/",
          "height": 285
        },
        "outputId": "6fec012f-636b-4400-9104-9c7d30fd2bda"
      },
      "source": [
        "# 5 baris teratas dari data\n",
        "df.head()"
      ],
      "execution_count": 8,
      "outputs": [
        {
          "output_type": "execute_result",
          "data": {
            "text/plain": [
              "   umur jenis_kelamin       pekerjaan      provinsi          gaji  is_menikah  \\\n",
              "0  42.0     Laki-laki             PNS        Padang  7.864005e+06           0   \n",
              "1  33.0     Laki-laki  Pegawai swasta  Palangkaraya  6.492662e+06           0   \n",
              "2  59.0     Laki-laki       Freelance        Serang  8.086303e+06           1   \n",
              "3  38.0     Laki-laki  Pegawai swasta     Gorontalo  1.147321e+07           0   \n",
              "4  33.0     Perempuan       Freelance  Tanjungselor  1.475942e+07           0   \n",
              "\n",
              "   is_keturunan      berat      tinggi     sampo  is_merokok pendidikan  \\\n",
              "0           0.0  61.928685  152.174164  Deadbuoy           1         S1   \n",
              "1           0.0  49.374507  152.822969  Moonsilk           1        SMA   \n",
              "2           0.0  59.072807  159.911047   Merpati           1         S1   \n",
              "3           1.0  68.338014  162.558997  Moonsilk           0         S1   \n",
              "4           0.0  53.769996  154.579510   Pantone           1         S2   \n",
              "\n",
              "   botak_prob  \n",
              "0    0.487655  \n",
              "1    0.297270  \n",
              "2    0.467848  \n",
              "3    0.616418  \n",
              "4    0.115439  "
            ],
            "text/html": [
              "\n",
              "  <div id=\"df-431407d5-8e31-4c37-b25a-79c54701dad7\">\n",
              "    <div class=\"colab-df-container\">\n",
              "      <div>\n",
              "<style scoped>\n",
              "    .dataframe tbody tr th:only-of-type {\n",
              "        vertical-align: middle;\n",
              "    }\n",
              "\n",
              "    .dataframe tbody tr th {\n",
              "        vertical-align: top;\n",
              "    }\n",
              "\n",
              "    .dataframe thead th {\n",
              "        text-align: right;\n",
              "    }\n",
              "</style>\n",
              "<table border=\"1\" class=\"dataframe\">\n",
              "  <thead>\n",
              "    <tr style=\"text-align: right;\">\n",
              "      <th></th>\n",
              "      <th>umur</th>\n",
              "      <th>jenis_kelamin</th>\n",
              "      <th>pekerjaan</th>\n",
              "      <th>provinsi</th>\n",
              "      <th>gaji</th>\n",
              "      <th>is_menikah</th>\n",
              "      <th>is_keturunan</th>\n",
              "      <th>berat</th>\n",
              "      <th>tinggi</th>\n",
              "      <th>sampo</th>\n",
              "      <th>is_merokok</th>\n",
              "      <th>pendidikan</th>\n",
              "      <th>botak_prob</th>\n",
              "    </tr>\n",
              "  </thead>\n",
              "  <tbody>\n",
              "    <tr>\n",
              "      <th>0</th>\n",
              "      <td>42.0</td>\n",
              "      <td>Laki-laki</td>\n",
              "      <td>PNS</td>\n",
              "      <td>Padang</td>\n",
              "      <td>7.864005e+06</td>\n",
              "      <td>0</td>\n",
              "      <td>0.0</td>\n",
              "      <td>61.928685</td>\n",
              "      <td>152.174164</td>\n",
              "      <td>Deadbuoy</td>\n",
              "      <td>1</td>\n",
              "      <td>S1</td>\n",
              "      <td>0.487655</td>\n",
              "    </tr>\n",
              "    <tr>\n",
              "      <th>1</th>\n",
              "      <td>33.0</td>\n",
              "      <td>Laki-laki</td>\n",
              "      <td>Pegawai swasta</td>\n",
              "      <td>Palangkaraya</td>\n",
              "      <td>6.492662e+06</td>\n",
              "      <td>0</td>\n",
              "      <td>0.0</td>\n",
              "      <td>49.374507</td>\n",
              "      <td>152.822969</td>\n",
              "      <td>Moonsilk</td>\n",
              "      <td>1</td>\n",
              "      <td>SMA</td>\n",
              "      <td>0.297270</td>\n",
              "    </tr>\n",
              "    <tr>\n",
              "      <th>2</th>\n",
              "      <td>59.0</td>\n",
              "      <td>Laki-laki</td>\n",
              "      <td>Freelance</td>\n",
              "      <td>Serang</td>\n",
              "      <td>8.086303e+06</td>\n",
              "      <td>1</td>\n",
              "      <td>0.0</td>\n",
              "      <td>59.072807</td>\n",
              "      <td>159.911047</td>\n",
              "      <td>Merpati</td>\n",
              "      <td>1</td>\n",
              "      <td>S1</td>\n",
              "      <td>0.467848</td>\n",
              "    </tr>\n",
              "    <tr>\n",
              "      <th>3</th>\n",
              "      <td>38.0</td>\n",
              "      <td>Laki-laki</td>\n",
              "      <td>Pegawai swasta</td>\n",
              "      <td>Gorontalo</td>\n",
              "      <td>1.147321e+07</td>\n",
              "      <td>0</td>\n",
              "      <td>1.0</td>\n",
              "      <td>68.338014</td>\n",
              "      <td>162.558997</td>\n",
              "      <td>Moonsilk</td>\n",
              "      <td>0</td>\n",
              "      <td>S1</td>\n",
              "      <td>0.616418</td>\n",
              "    </tr>\n",
              "    <tr>\n",
              "      <th>4</th>\n",
              "      <td>33.0</td>\n",
              "      <td>Perempuan</td>\n",
              "      <td>Freelance</td>\n",
              "      <td>Tanjungselor</td>\n",
              "      <td>1.475942e+07</td>\n",
              "      <td>0</td>\n",
              "      <td>0.0</td>\n",
              "      <td>53.769996</td>\n",
              "      <td>154.579510</td>\n",
              "      <td>Pantone</td>\n",
              "      <td>1</td>\n",
              "      <td>S2</td>\n",
              "      <td>0.115439</td>\n",
              "    </tr>\n",
              "  </tbody>\n",
              "</table>\n",
              "</div>\n",
              "      <button class=\"colab-df-convert\" onclick=\"convertToInteractive('df-431407d5-8e31-4c37-b25a-79c54701dad7')\"\n",
              "              title=\"Convert this dataframe to an interactive table.\"\n",
              "              style=\"display:none;\">\n",
              "        \n",
              "  <svg xmlns=\"http://www.w3.org/2000/svg\" height=\"24px\"viewBox=\"0 0 24 24\"\n",
              "       width=\"24px\">\n",
              "    <path d=\"M0 0h24v24H0V0z\" fill=\"none\"/>\n",
              "    <path d=\"M18.56 5.44l.94 2.06.94-2.06 2.06-.94-2.06-.94-.94-2.06-.94 2.06-2.06.94zm-11 1L8.5 8.5l.94-2.06 2.06-.94-2.06-.94L8.5 2.5l-.94 2.06-2.06.94zm10 10l.94 2.06.94-2.06 2.06-.94-2.06-.94-.94-2.06-.94 2.06-2.06.94z\"/><path d=\"M17.41 7.96l-1.37-1.37c-.4-.4-.92-.59-1.43-.59-.52 0-1.04.2-1.43.59L10.3 9.45l-7.72 7.72c-.78.78-.78 2.05 0 2.83L4 21.41c.39.39.9.59 1.41.59.51 0 1.02-.2 1.41-.59l7.78-7.78 2.81-2.81c.8-.78.8-2.07 0-2.86zM5.41 20L4 18.59l7.72-7.72 1.47 1.35L5.41 20z\"/>\n",
              "  </svg>\n",
              "      </button>\n",
              "      \n",
              "  <style>\n",
              "    .colab-df-container {\n",
              "      display:flex;\n",
              "      flex-wrap:wrap;\n",
              "      gap: 12px;\n",
              "    }\n",
              "\n",
              "    .colab-df-convert {\n",
              "      background-color: #E8F0FE;\n",
              "      border: none;\n",
              "      border-radius: 50%;\n",
              "      cursor: pointer;\n",
              "      display: none;\n",
              "      fill: #1967D2;\n",
              "      height: 32px;\n",
              "      padding: 0 0 0 0;\n",
              "      width: 32px;\n",
              "    }\n",
              "\n",
              "    .colab-df-convert:hover {\n",
              "      background-color: #E2EBFA;\n",
              "      box-shadow: 0px 1px 2px rgba(60, 64, 67, 0.3), 0px 1px 3px 1px rgba(60, 64, 67, 0.15);\n",
              "      fill: #174EA6;\n",
              "    }\n",
              "\n",
              "    [theme=dark] .colab-df-convert {\n",
              "      background-color: #3B4455;\n",
              "      fill: #D2E3FC;\n",
              "    }\n",
              "\n",
              "    [theme=dark] .colab-df-convert:hover {\n",
              "      background-color: #434B5C;\n",
              "      box-shadow: 0px 1px 3px 1px rgba(0, 0, 0, 0.15);\n",
              "      filter: drop-shadow(0px 1px 2px rgba(0, 0, 0, 0.3));\n",
              "      fill: #FFFFFF;\n",
              "    }\n",
              "  </style>\n",
              "\n",
              "      <script>\n",
              "        const buttonEl =\n",
              "          document.querySelector('#df-431407d5-8e31-4c37-b25a-79c54701dad7 button.colab-df-convert');\n",
              "        buttonEl.style.display =\n",
              "          google.colab.kernel.accessAllowed ? 'block' : 'none';\n",
              "\n",
              "        async function convertToInteractive(key) {\n",
              "          const element = document.querySelector('#df-431407d5-8e31-4c37-b25a-79c54701dad7');\n",
              "          const dataTable =\n",
              "            await google.colab.kernel.invokeFunction('convertToInteractive',\n",
              "                                                     [key], {});\n",
              "          if (!dataTable) return;\n",
              "\n",
              "          const docLinkHtml = 'Like what you see? Visit the ' +\n",
              "            '<a target=\"_blank\" href=https://colab.research.google.com/notebooks/data_table.ipynb>data table notebook</a>'\n",
              "            + ' to learn more about interactive tables.';\n",
              "          element.innerHTML = '';\n",
              "          dataTable['output_type'] = 'display_data';\n",
              "          await google.colab.output.renderOutput(dataTable, element);\n",
              "          const docLink = document.createElement('div');\n",
              "          docLink.innerHTML = docLinkHtml;\n",
              "          element.appendChild(docLink);\n",
              "        }\n",
              "      </script>\n",
              "    </div>\n",
              "  </div>\n",
              "  "
            ]
          },
          "metadata": {},
          "execution_count": 8
        }
      ]
    },
    {
      "cell_type": "code",
      "source": [
        "# pengelompokan kolom berdasarkan jenisnya\n",
        "nums = ['umur', 'gaji', 'is_menikah', 'is_keturunan', 'berat', 'tinggi', 'is_merokok', 'botak_prob']\n",
        "cats = ['jenis_kelamin', 'pekerjaan', 'sampo', 'pendidikan','provinsi']"
      ],
      "metadata": {
        "id": "ej4rFhangauP"
      },
      "execution_count": null,
      "outputs": []
    },
    {
      "cell_type": "markdown",
      "metadata": {
        "id": "6_er5f0MuCR2"
      },
      "source": [
        "# Missing Data"
      ]
    },
    {
      "cell_type": "code",
      "metadata": {
        "id": "-nFiCGgquD1e",
        "colab": {
          "base_uri": "https://localhost:8080/"
        },
        "outputId": "6e6a96b9-e6cd-4304-c857-c73e06b37247"
      },
      "source": [
        "# jumlah entry NULL di setiap kolom\n",
        "df.isna().sum()"
      ],
      "execution_count": 7,
      "outputs": [
        {
          "output_type": "execute_result",
          "data": {
            "text/plain": [
              "umur              0\n",
              "jenis_kelamin     9\n",
              "pekerjaan        67\n",
              "provinsi          0\n",
              "gaji             23\n",
              "is_menikah        0\n",
              "is_keturunan     15\n",
              "berat            39\n",
              "tinggi            0\n",
              "sampo            57\n",
              "is_merokok        0\n",
              "pendidikan        0\n",
              "botak_prob        0\n",
              "dtype: int64"
            ]
          },
          "metadata": {},
          "execution_count": 7
        }
      ]
    },
    {
      "cell_type": "code",
      "metadata": {
        "id": "JRcPcEP9vykj"
      },
      "source": [
        "# drop baris dengan missing values\n",
        "df = df.dropna()"
      ],
      "execution_count": null,
      "outputs": []
    },
    {
      "cell_type": "code",
      "source": [
        "# cek apakah sudah berhasil\n",
        "df.isna().sum()"
      ],
      "metadata": {
        "id": "93uPuyBefHfo",
        "colab": {
          "base_uri": "https://localhost:8080/"
        },
        "outputId": "92278322-ffd2-4a9a-f0f6-69663c6d65f3"
      },
      "execution_count": 9,
      "outputs": [
        {
          "output_type": "execute_result",
          "data": {
            "text/plain": [
              "umur              0\n",
              "jenis_kelamin     9\n",
              "pekerjaan        67\n",
              "provinsi          0\n",
              "gaji             23\n",
              "is_menikah        0\n",
              "is_keturunan     15\n",
              "berat            39\n",
              "tinggi            0\n",
              "sampo            57\n",
              "is_merokok        0\n",
              "pendidikan        0\n",
              "botak_prob        0\n",
              "dtype: int64"
            ]
          },
          "metadata": {},
          "execution_count": 9
        }
      ]
    },
    {
      "cell_type": "markdown",
      "metadata": {
        "id": "a4Y2qV2QzRtl"
      },
      "source": [
        "# Duplicated Data"
      ]
    },
    {
      "cell_type": "code",
      "metadata": {
        "id": "xPYIlLV0y_w6",
        "colab": {
          "base_uri": "https://localhost:8080/"
        },
        "outputId": "e6f3192a-997a-4a21-c6a0-bd5e11aa0c4e"
      },
      "source": [
        "# cek jumlah duplicated rows\n",
        "# dari semua kolom\n",
        "df.duplicated().sum()"
      ],
      "execution_count": 11,
      "outputs": [
        {
          "output_type": "execute_result",
          "data": {
            "text/plain": [
              "101"
            ]
          },
          "metadata": {},
          "execution_count": 11
        }
      ]
    },
    {
      "cell_type": "code",
      "metadata": {
        "id": "QbB8la0xzVwU",
        "colab": {
          "base_uri": "https://localhost:8080/"
        },
        "outputId": "abd71cdb-4d79-4f2b-ef52-04cc3bd6e6c4"
      },
      "source": [
        "# drop duplicated rows\n",
        "print(df.duplicated().sum())\n",
        "df.drop_duplicates(inplace=True)\n",
        "print(df.duplicated().sum())"
      ],
      "execution_count": 12,
      "outputs": [
        {
          "output_type": "stream",
          "name": "stdout",
          "text": [
            "101\n",
            "0\n"
          ]
        }
      ]
    },
    {
      "cell_type": "markdown",
      "metadata": {
        "id": "HbJBD6yxzcJP"
      },
      "source": [
        "# Outliers Removal\n",
        "Menggunakan konsep IQR"
      ]
    },
    {
      "cell_type": "code",
      "metadata": {
        "id": "4DR1BnKdzi-0",
        "colab": {
          "base_uri": "https://localhost:8080/"
        },
        "outputId": "eac6f729-aab2-4224-f762-7cd90d7d2316"
      },
      "source": [
        "print(f'Jumlah baris sebelum memfilter outlier: {len(df)}')\n",
        "\n",
        "for col in ['umur','gaji', 'berat', 'tinggi']:\n",
        "  Q1 = df[col].quantile(0.25)\n",
        "  Q3 = df[col].quantile(0.75)\n",
        "  IQR = Q3-Q1\n",
        "  low_limit = Q1 - 1.5*IQR\n",
        "  high_limit = Q3 + 1.5*IQR\n",
        "  df = df[(df[col] >= low_limit) & (df[col] <= high_limit)]\n",
        "\n",
        "print(f'Jumlah baris setelah memfilter outlier: {len(df)}')"
      ],
      "execution_count": null,
      "outputs": [
        {
          "output_type": "stream",
          "name": "stdout",
          "text": [
            "Jumlah baris sebelum memfilter outlier: 7682\n",
            "Jumlah baris setelah memfilter outlier: 6989\n"
          ]
        }
      ]
    },
    {
      "cell_type": "markdown",
      "metadata": {
        "id": "vBB_vjMX06IC"
      },
      "source": [
        "# Feature Encoding"
      ]
    },
    {
      "cell_type": "code",
      "metadata": {
        "id": "IGIBn38P0HJm",
        "colab": {
          "base_uri": "https://localhost:8080/"
        },
        "outputId": "dec13767-4a7d-49a9-bfb4-b35198215fa3"
      },
      "source": [
        "# pengecekan nilai/entri dari kolom-kolom kategorikal\n",
        "\n",
        "for col in cats:\n",
        "  print(f'value counts of column {col}')\n",
        "  print(df[col].value_counts())\n",
        "  print('---'*10, '\\n')"
      ],
      "execution_count": null,
      "outputs": [
        {
          "output_type": "stream",
          "name": "stdout",
          "text": [
            "value counts of column jenis_kelamin\n",
            "Laki-laki    4651\n",
            "Perempuan    2338\n",
            "Name: jenis_kelamin, dtype: int64\n",
            "------------------------------ \n",
            "\n",
            "value counts of column pekerjaan\n",
            "PNS               2818\n",
            "Pegawai swasta    2797\n",
            "Freelance         1096\n",
            "Pengangguran       278\n",
            "Name: pekerjaan, dtype: int64\n",
            "------------------------------ \n",
            "\n",
            "value counts of column sampo\n",
            "Merpati            1448\n",
            "Pantone            1409\n",
            "Moonsilk           1384\n",
            "Deadbuoy           1381\n",
            "Shoulder & Head    1367\n",
            "Name: sampo, dtype: int64\n",
            "------------------------------ \n",
            "\n",
            "value counts of column pendidikan\n",
            "S1     3845\n",
            "SMA    1773\n",
            "S2      576\n",
            "SMP     475\n",
            "SD      191\n",
            "S3      129\n",
            "Name: pendidikan, dtype: int64\n",
            "------------------------------ \n",
            "\n",
            "value counts of column provinsi\n",
            "Sofifi            233\n",
            "Denpasar          228\n",
            "Tanjungselor      227\n",
            "Pekanbaru         227\n",
            "Ambon             226\n",
            "Pangkalpinang     225\n",
            "Banda Lampung     225\n",
            "Banda Aceh        225\n",
            "Serang            221\n",
            "Samarinda         219\n",
            "Manado            216\n",
            "Banjarmasin       213\n",
            "Mamuju            212\n",
            "Tanjung Pinang    210\n",
            "Jakarta           209\n",
            "Mataram           204\n",
            "Gorontalo         204\n",
            "Pontianak         203\n",
            "Surabaya          203\n",
            "Palangkaraya      203\n",
            "Padang            201\n",
            "Semarang          201\n",
            "Palembang         200\n",
            "Bandung           198\n",
            "Kupang            198\n",
            "Yogyakarta        196\n",
            "Bengkulu          196\n",
            "Jambi             194\n",
            "Manokwari         190\n",
            "Kendari           183\n",
            "Makassar          180\n",
            "Palu              175\n",
            "Jayapura          174\n",
            "Medan             170\n",
            "Name: provinsi, dtype: int64\n",
            "------------------------------ \n",
            "\n"
          ]
        }
      ]
    },
    {
      "cell_type": "markdown",
      "metadata": {
        "id": "MplaGm-51szD"
      },
      "source": [
        "Strategi encoding\n",
        "* `jenis_kelamin` & `pendidikan` \\: label encoding\n",
        "* `pekerjaan` & `sampo` \\: One Hot Encoding \n",
        "* `provinsi`: sepertinya dapat di-drop, karena distinct values terlalu banyak"
      ]
    },
    {
      "cell_type": "code",
      "source": [
        "# drop kolom provinsi\n",
        "df = df.drop(columns='provinsi')"
      ],
      "metadata": {
        "id": "o4I-1MF-XRjU"
      },
      "execution_count": null,
      "outputs": []
    },
    {
      "cell_type": "code",
      "metadata": {
        "id": "yK99BcTw0909"
      },
      "source": [
        "# label encoding\n",
        "# untuk kolom jenis_kelamin dan pendidikan\n",
        "mapping_jenis_kelamin = {\n",
        "    'Perempuan' : 0,\n",
        "    'Laki-laki' : 1\n",
        "}\n",
        "\n",
        "mapping_pendidikan = {\n",
        "    'SD' : 0,\n",
        "    'SMP' : 1,\n",
        "    'SMA' : 2,\n",
        "    'S1' : 3,\n",
        "    'S2' : 4,\n",
        "    'S3' : 5\n",
        "}\n",
        "\n",
        "df['jenis_kelamin'] = df['jenis_kelamin'].map(mapping_jenis_kelamin)\n",
        "df['pendidikan'] = df['pendidikan'].map(mapping_pendidikan)"
      ],
      "execution_count": null,
      "outputs": []
    },
    {
      "cell_type": "code",
      "metadata": {
        "id": "XhUiF70g1F4U"
      },
      "source": [
        "# One hot encoder pekerjaan dan sampo\n",
        "# WARNING: run code ini sekali saja\n",
        "for cat in ['pekerjaan', 'sampo']:\n",
        "    onehots = pd.get_dummies(df[cat], prefix=cat)\n",
        "    df = df.join(onehots)"
      ],
      "execution_count": null,
      "outputs": []
    },
    {
      "cell_type": "markdown",
      "metadata": {
        "id": "w7PflWab4Vfl"
      },
      "source": [
        "# Drop kolom-kolom yang outdated"
      ]
    },
    {
      "cell_type": "code",
      "metadata": {
        "id": "FUDEXhtj3YIo"
      },
      "source": [
        "# drop kolom pekerjaan dan sampo yang asli (karena sudah di-encoding)\n",
        "df = df.drop(columns=['pekerjaan', 'sampo'])"
      ],
      "execution_count": null,
      "outputs": []
    },
    {
      "cell_type": "code",
      "metadata": {
        "id": "gJq4lcj83lJZ",
        "colab": {
          "base_uri": "https://localhost:8080/",
          "height": 287
        },
        "outputId": "856332e4-ba15-400f-e243-49f9f9645b6b"
      },
      "source": [
        "# cek 'n ricek penampakan data setelah preprocessing\n",
        "df.head()"
      ],
      "execution_count": null,
      "outputs": [
        {
          "output_type": "execute_result",
          "data": {
            "text/plain": [
              "   umur  jenis_kelamin          gaji  is_menikah  is_keturunan      berat  \\\n",
              "0  42.0              1  7.864005e+06           0           0.0  61.928685   \n",
              "1  33.0              1  6.492662e+06           0           0.0  49.374507   \n",
              "2  59.0              1  8.086303e+06           1           0.0  59.072807   \n",
              "3  38.0              1  1.147321e+07           0           1.0  68.338014   \n",
              "4  33.0              0  1.475942e+07           0           0.0  53.769996   \n",
              "\n",
              "       tinggi  is_merokok  pendidikan  botak_prob  pekerjaan_Freelance  \\\n",
              "0  152.174164           1           3    0.487655                    0   \n",
              "1  152.822969           1           2    0.297270                    0   \n",
              "2  159.911047           1           3    0.467848                    1   \n",
              "3  162.558997           0           3    0.616418                    0   \n",
              "4  154.579510           1           4    0.115439                    1   \n",
              "\n",
              "   pekerjaan_PNS  pekerjaan_Pegawai swasta  pekerjaan_Pengangguran  \\\n",
              "0              1                         0                       0   \n",
              "1              0                         1                       0   \n",
              "2              0                         0                       0   \n",
              "3              0                         1                       0   \n",
              "4              0                         0                       0   \n",
              "\n",
              "   sampo_Deadbuoy  sampo_Merpati  sampo_Moonsilk  sampo_Pantone  \\\n",
              "0               1              0               0              0   \n",
              "1               0              0               1              0   \n",
              "2               0              1               0              0   \n",
              "3               0              0               1              0   \n",
              "4               0              0               0              1   \n",
              "\n",
              "   sampo_Shoulder & Head  \n",
              "0                      0  \n",
              "1                      0  \n",
              "2                      0  \n",
              "3                      0  \n",
              "4                      0  "
            ],
            "text/html": [
              "\n",
              "  <div id=\"df-6c6bb9f8-15ec-47bc-af28-901659bd1578\">\n",
              "    <div class=\"colab-df-container\">\n",
              "      <div>\n",
              "<style scoped>\n",
              "    .dataframe tbody tr th:only-of-type {\n",
              "        vertical-align: middle;\n",
              "    }\n",
              "\n",
              "    .dataframe tbody tr th {\n",
              "        vertical-align: top;\n",
              "    }\n",
              "\n",
              "    .dataframe thead th {\n",
              "        text-align: right;\n",
              "    }\n",
              "</style>\n",
              "<table border=\"1\" class=\"dataframe\">\n",
              "  <thead>\n",
              "    <tr style=\"text-align: right;\">\n",
              "      <th></th>\n",
              "      <th>umur</th>\n",
              "      <th>jenis_kelamin</th>\n",
              "      <th>gaji</th>\n",
              "      <th>is_menikah</th>\n",
              "      <th>is_keturunan</th>\n",
              "      <th>berat</th>\n",
              "      <th>tinggi</th>\n",
              "      <th>is_merokok</th>\n",
              "      <th>pendidikan</th>\n",
              "      <th>botak_prob</th>\n",
              "      <th>pekerjaan_Freelance</th>\n",
              "      <th>pekerjaan_PNS</th>\n",
              "      <th>pekerjaan_Pegawai swasta</th>\n",
              "      <th>pekerjaan_Pengangguran</th>\n",
              "      <th>sampo_Deadbuoy</th>\n",
              "      <th>sampo_Merpati</th>\n",
              "      <th>sampo_Moonsilk</th>\n",
              "      <th>sampo_Pantone</th>\n",
              "      <th>sampo_Shoulder &amp; Head</th>\n",
              "    </tr>\n",
              "  </thead>\n",
              "  <tbody>\n",
              "    <tr>\n",
              "      <th>0</th>\n",
              "      <td>42.0</td>\n",
              "      <td>1</td>\n",
              "      <td>7.864005e+06</td>\n",
              "      <td>0</td>\n",
              "      <td>0.0</td>\n",
              "      <td>61.928685</td>\n",
              "      <td>152.174164</td>\n",
              "      <td>1</td>\n",
              "      <td>3</td>\n",
              "      <td>0.487655</td>\n",
              "      <td>0</td>\n",
              "      <td>1</td>\n",
              "      <td>0</td>\n",
              "      <td>0</td>\n",
              "      <td>1</td>\n",
              "      <td>0</td>\n",
              "      <td>0</td>\n",
              "      <td>0</td>\n",
              "      <td>0</td>\n",
              "    </tr>\n",
              "    <tr>\n",
              "      <th>1</th>\n",
              "      <td>33.0</td>\n",
              "      <td>1</td>\n",
              "      <td>6.492662e+06</td>\n",
              "      <td>0</td>\n",
              "      <td>0.0</td>\n",
              "      <td>49.374507</td>\n",
              "      <td>152.822969</td>\n",
              "      <td>1</td>\n",
              "      <td>2</td>\n",
              "      <td>0.297270</td>\n",
              "      <td>0</td>\n",
              "      <td>0</td>\n",
              "      <td>1</td>\n",
              "      <td>0</td>\n",
              "      <td>0</td>\n",
              "      <td>0</td>\n",
              "      <td>1</td>\n",
              "      <td>0</td>\n",
              "      <td>0</td>\n",
              "    </tr>\n",
              "    <tr>\n",
              "      <th>2</th>\n",
              "      <td>59.0</td>\n",
              "      <td>1</td>\n",
              "      <td>8.086303e+06</td>\n",
              "      <td>1</td>\n",
              "      <td>0.0</td>\n",
              "      <td>59.072807</td>\n",
              "      <td>159.911047</td>\n",
              "      <td>1</td>\n",
              "      <td>3</td>\n",
              "      <td>0.467848</td>\n",
              "      <td>1</td>\n",
              "      <td>0</td>\n",
              "      <td>0</td>\n",
              "      <td>0</td>\n",
              "      <td>0</td>\n",
              "      <td>1</td>\n",
              "      <td>0</td>\n",
              "      <td>0</td>\n",
              "      <td>0</td>\n",
              "    </tr>\n",
              "    <tr>\n",
              "      <th>3</th>\n",
              "      <td>38.0</td>\n",
              "      <td>1</td>\n",
              "      <td>1.147321e+07</td>\n",
              "      <td>0</td>\n",
              "      <td>1.0</td>\n",
              "      <td>68.338014</td>\n",
              "      <td>162.558997</td>\n",
              "      <td>0</td>\n",
              "      <td>3</td>\n",
              "      <td>0.616418</td>\n",
              "      <td>0</td>\n",
              "      <td>0</td>\n",
              "      <td>1</td>\n",
              "      <td>0</td>\n",
              "      <td>0</td>\n",
              "      <td>0</td>\n",
              "      <td>1</td>\n",
              "      <td>0</td>\n",
              "      <td>0</td>\n",
              "    </tr>\n",
              "    <tr>\n",
              "      <th>4</th>\n",
              "      <td>33.0</td>\n",
              "      <td>0</td>\n",
              "      <td>1.475942e+07</td>\n",
              "      <td>0</td>\n",
              "      <td>0.0</td>\n",
              "      <td>53.769996</td>\n",
              "      <td>154.579510</td>\n",
              "      <td>1</td>\n",
              "      <td>4</td>\n",
              "      <td>0.115439</td>\n",
              "      <td>1</td>\n",
              "      <td>0</td>\n",
              "      <td>0</td>\n",
              "      <td>0</td>\n",
              "      <td>0</td>\n",
              "      <td>0</td>\n",
              "      <td>0</td>\n",
              "      <td>1</td>\n",
              "      <td>0</td>\n",
              "    </tr>\n",
              "  </tbody>\n",
              "</table>\n",
              "</div>\n",
              "      <button class=\"colab-df-convert\" onclick=\"convertToInteractive('df-6c6bb9f8-15ec-47bc-af28-901659bd1578')\"\n",
              "              title=\"Convert this dataframe to an interactive table.\"\n",
              "              style=\"display:none;\">\n",
              "        \n",
              "  <svg xmlns=\"http://www.w3.org/2000/svg\" height=\"24px\"viewBox=\"0 0 24 24\"\n",
              "       width=\"24px\">\n",
              "    <path d=\"M0 0h24v24H0V0z\" fill=\"none\"/>\n",
              "    <path d=\"M18.56 5.44l.94 2.06.94-2.06 2.06-.94-2.06-.94-.94-2.06-.94 2.06-2.06.94zm-11 1L8.5 8.5l.94-2.06 2.06-.94-2.06-.94L8.5 2.5l-.94 2.06-2.06.94zm10 10l.94 2.06.94-2.06 2.06-.94-2.06-.94-.94-2.06-.94 2.06-2.06.94z\"/><path d=\"M17.41 7.96l-1.37-1.37c-.4-.4-.92-.59-1.43-.59-.52 0-1.04.2-1.43.59L10.3 9.45l-7.72 7.72c-.78.78-.78 2.05 0 2.83L4 21.41c.39.39.9.59 1.41.59.51 0 1.02-.2 1.41-.59l7.78-7.78 2.81-2.81c.8-.78.8-2.07 0-2.86zM5.41 20L4 18.59l7.72-7.72 1.47 1.35L5.41 20z\"/>\n",
              "  </svg>\n",
              "      </button>\n",
              "      \n",
              "  <style>\n",
              "    .colab-df-container {\n",
              "      display:flex;\n",
              "      flex-wrap:wrap;\n",
              "      gap: 12px;\n",
              "    }\n",
              "\n",
              "    .colab-df-convert {\n",
              "      background-color: #E8F0FE;\n",
              "      border: none;\n",
              "      border-radius: 50%;\n",
              "      cursor: pointer;\n",
              "      display: none;\n",
              "      fill: #1967D2;\n",
              "      height: 32px;\n",
              "      padding: 0 0 0 0;\n",
              "      width: 32px;\n",
              "    }\n",
              "\n",
              "    .colab-df-convert:hover {\n",
              "      background-color: #E2EBFA;\n",
              "      box-shadow: 0px 1px 2px rgba(60, 64, 67, 0.3), 0px 1px 3px 1px rgba(60, 64, 67, 0.15);\n",
              "      fill: #174EA6;\n",
              "    }\n",
              "\n",
              "    [theme=dark] .colab-df-convert {\n",
              "      background-color: #3B4455;\n",
              "      fill: #D2E3FC;\n",
              "    }\n",
              "\n",
              "    [theme=dark] .colab-df-convert:hover {\n",
              "      background-color: #434B5C;\n",
              "      box-shadow: 0px 1px 3px 1px rgba(0, 0, 0, 0.15);\n",
              "      filter: drop-shadow(0px 1px 2px rgba(0, 0, 0, 0.3));\n",
              "      fill: #FFFFFF;\n",
              "    }\n",
              "  </style>\n",
              "\n",
              "      <script>\n",
              "        const buttonEl =\n",
              "          document.querySelector('#df-6c6bb9f8-15ec-47bc-af28-901659bd1578 button.colab-df-convert');\n",
              "        buttonEl.style.display =\n",
              "          google.colab.kernel.accessAllowed ? 'block' : 'none';\n",
              "\n",
              "        async function convertToInteractive(key) {\n",
              "          const element = document.querySelector('#df-6c6bb9f8-15ec-47bc-af28-901659bd1578');\n",
              "          const dataTable =\n",
              "            await google.colab.kernel.invokeFunction('convertToInteractive',\n",
              "                                                     [key], {});\n",
              "          if (!dataTable) return;\n",
              "\n",
              "          const docLinkHtml = 'Like what you see? Visit the ' +\n",
              "            '<a target=\"_blank\" href=https://colab.research.google.com/notebooks/data_table.ipynb>data table notebook</a>'\n",
              "            + ' to learn more about interactive tables.';\n",
              "          element.innerHTML = '';\n",
              "          dataTable['output_type'] = 'display_data';\n",
              "          await google.colab.output.renderOutput(dataTable, element);\n",
              "          const docLink = document.createElement('div');\n",
              "          docLink.innerHTML = docLinkHtml;\n",
              "          element.appendChild(docLink);\n",
              "        }\n",
              "      </script>\n",
              "    </div>\n",
              "  </div>\n",
              "  "
            ]
          },
          "metadata": {},
          "execution_count": 54
        }
      ]
    },
    {
      "cell_type": "code",
      "metadata": {
        "id": "oCUKohFi4Il1",
        "colab": {
          "base_uri": "https://localhost:8080/"
        },
        "outputId": "ae5afc7e-f861-4515-c533-ccf8f68746a1"
      },
      "source": [
        "# informasi dataframe yang sudah di-preprocessing\n",
        "df.info()"
      ],
      "execution_count": null,
      "outputs": [
        {
          "output_type": "stream",
          "name": "stdout",
          "text": [
            "<class 'pandas.core.frame.DataFrame'>\n",
            "Int64Index: 6989 entries, 0 to 7911\n",
            "Data columns (total 19 columns):\n",
            " #   Column                    Non-Null Count  Dtype  \n",
            "---  ------                    --------------  -----  \n",
            " 0   umur                      6989 non-null   float64\n",
            " 1   jenis_kelamin             6989 non-null   int64  \n",
            " 2   gaji                      6989 non-null   float64\n",
            " 3   is_menikah                6989 non-null   int64  \n",
            " 4   is_keturunan              6989 non-null   float64\n",
            " 5   berat                     6989 non-null   float64\n",
            " 6   tinggi                    6989 non-null   float64\n",
            " 7   is_merokok                6989 non-null   int64  \n",
            " 8   pendidikan                6989 non-null   int64  \n",
            " 9   botak_prob                6989 non-null   float64\n",
            " 10  pekerjaan_Freelance       6989 non-null   uint8  \n",
            " 11  pekerjaan_PNS             6989 non-null   uint8  \n",
            " 12  pekerjaan_Pegawai swasta  6989 non-null   uint8  \n",
            " 13  pekerjaan_Pengangguran    6989 non-null   uint8  \n",
            " 14  sampo_Deadbuoy            6989 non-null   uint8  \n",
            " 15  sampo_Merpati             6989 non-null   uint8  \n",
            " 16  sampo_Moonsilk            6989 non-null   uint8  \n",
            " 17  sampo_Pantone             6989 non-null   uint8  \n",
            " 18  sampo_Shoulder & Head     6989 non-null   uint8  \n",
            "dtypes: float64(6), int64(4), uint8(9)\n",
            "memory usage: 920.1 KB\n"
          ]
        }
      ]
    },
    {
      "cell_type": "code",
      "source": [
        ""
      ],
      "metadata": {
        "id": "a6GZ0cSO0C-n"
      },
      "execution_count": null,
      "outputs": []
    }
  ]
}