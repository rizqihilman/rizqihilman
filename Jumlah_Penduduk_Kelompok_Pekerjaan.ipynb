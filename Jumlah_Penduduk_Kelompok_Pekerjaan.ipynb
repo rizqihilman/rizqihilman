{
  "nbformat": 4,
  "nbformat_minor": 0,
  "metadata": {
    "colab": {
      "name": "Jumlah Penduduk Kelompok Pekerjaan.ipynb",
      "provenance": [],
      "toc_visible": true,
      "authorship_tag": "ABX9TyPFx+kMWR8aZfXu0odbR1fV",
      "include_colab_link": true
    },
    "kernelspec": {
      "name": "python3",
      "display_name": "Python 3"
    },
    "language_info": {
      "name": "python"
    }
  },
  "cells": [
    {
      "cell_type": "markdown",
      "metadata": {
        "id": "view-in-github",
        "colab_type": "text"
      },
      "source": [
        "<a href=\"https://colab.research.google.com/github/rizqihilman/rizqihilman/blob/main/Jumlah_Penduduk_Kelompok_Pekerjaan.ipynb\" target=\"_parent\"><img src=\"https://colab.research.google.com/assets/colab-badge.svg\" alt=\"Open In Colab\"/></a>"
      ]
    },
    {
      "cell_type": "markdown",
      "source": [
        "# **Data Cleansing** - Jumlah Penduduk Jawa Barat Berdasarkan kelompok Pekerjaan dan Jenis Kelamin"
      ],
      "metadata": {
        "id": "4D-D0vcI-Rdg"
      }
    },
    {
      "cell_type": "markdown",
      "source": [
        "# Import Library"
      ],
      "metadata": {
        "id": "5p0KEodV-oYw"
      }
    },
    {
      "cell_type": "code",
      "execution_count": 20,
      "metadata": {
        "colab": {
          "base_uri": "https://localhost:8080/"
        },
        "id": "fOpxSR1i6DaB",
        "outputId": "0eb88655-c940-46de-bf9c-602810fc6085"
      },
      "outputs": [
        {
          "output_type": "stream",
          "name": "stdout",
          "text": [
            "Drive already mounted at /content/drive; to attempt to forcibly remount, call drive.mount(\"/content/drive\", force_remount=True).\n"
          ]
        }
      ],
      "source": [
        "from google.colab import drive\n",
        "drive.mount('/content/drive')"
      ]
    },
    {
      "cell_type": "code",
      "source": [
        "import numpy as np\n",
        "import pandas as pd\n",
        "import matplotlib.pyplot as plt\n",
        "import seaborn as sns"
      ],
      "metadata": {
        "id": "oYmCyr4i6Fjh"
      },
      "execution_count": 21,
      "outputs": []
    },
    {
      "cell_type": "markdown",
      "source": [
        "# Load Dataset"
      ],
      "metadata": {
        "id": "RDbtcMfR-5KS"
      }
    },
    {
      "cell_type": "code",
      "source": [
        "# change the path according to your file location in your Google Drive\n",
        "df = pd.read_csv('/content/disdukcapil-2-od_15922_jml_penduduk__kelompok_pekerjaan_jk_data.csv')"
      ],
      "metadata": {
        "id": "aYMnVWLQ6HEz"
      },
      "execution_count": 22,
      "outputs": []
    },
    {
      "cell_type": "code",
      "source": [
        "# informasi general tentang dataframe\n",
        "df.info()"
      ],
      "metadata": {
        "colab": {
          "base_uri": "https://localhost:8080/"
        },
        "id": "oz5v11dY6Iex",
        "outputId": "343a7d98-f821-4fe5-e9ef-fbedf1a273c2"
      },
      "execution_count": 23,
      "outputs": [
        {
          "output_type": "stream",
          "name": "stdout",
          "text": [
            "<class 'pandas.core.frame.DataFrame'>\n",
            "RangeIndex: 196 entries, 0 to 195\n",
            "Data columns (total 8 columns):\n",
            " #   Column              Non-Null Count  Dtype \n",
            "---  ------              --------------  ----- \n",
            " 0   id                  196 non-null    int64 \n",
            " 1   kode_provinsi       196 non-null    int64 \n",
            " 2   nama_provinsi       196 non-null    object\n",
            " 3   kelompok_pekerjaan  196 non-null    object\n",
            " 4   jenis_kelamin       196 non-null    object\n",
            " 5   jumlah_penduduk     196 non-null    int64 \n",
            " 6   satuan              196 non-null    object\n",
            " 7   tahun               196 non-null    int64 \n",
            "dtypes: int64(4), object(4)\n",
            "memory usage: 12.4+ KB\n"
          ]
        }
      ]
    },
    {
      "cell_type": "markdown",
      "source": [
        "    Data terdiri dari 196 baris\n",
        "\n",
        "\n",
        "\n",
        "\n",
        "\n",
        "\n",
        "\n",
        "\n",
        "\n"
      ],
      "metadata": {
        "id": "BgAKPy4-6Mxh"
      }
    },
    {
      "cell_type": "markdown",
      "source": [
        "# Cuplikan Data"
      ],
      "metadata": {
        "id": "sCmgs4n__U-X"
      }
    },
    {
      "cell_type": "code",
      "source": [
        "# 5 baris teratas dari data\n",
        "df.head()"
      ],
      "metadata": {
        "colab": {
          "base_uri": "https://localhost:8080/",
          "height": 206
        },
        "id": "nRSjxWwX6Jzj",
        "outputId": "d27c042b-ae9f-4167-cab0-be1aeaa46f0f"
      },
      "execution_count": 24,
      "outputs": [
        {
          "output_type": "execute_result",
          "data": {
            "text/plain": [
              "   id  kode_provinsi nama_provinsi     kelompok_pekerjaan jenis_kelamin  \\\n",
              "0   1             32    JAWA BARAT    TIDAK/BELUM BEKERJA     LAKI-LAKI   \n",
              "1   2             32    JAWA BARAT    TIDAK/BELUM BEKERJA     PEREMPUAN   \n",
              "2   3             32    JAWA BARAT  MENGURUS RUMAH TANGGA     LAKI-LAKI   \n",
              "3   4             32    JAWA BARAT  MENGURUS RUMAH TANGGA     PEREMPUAN   \n",
              "4   5             32    JAWA BARAT      PELAJAR/MAHASISWA     LAKI-LAKI   \n",
              "\n",
              "   jumlah_penduduk satuan  tahun  \n",
              "0          5789236   JIWA   2015  \n",
              "1          5110515   JIWA   2015  \n",
              "2              438   JIWA   2015  \n",
              "3          9832208   JIWA   2015  \n",
              "4          3904150   JIWA   2015  "
            ],
            "text/html": [
              "\n",
              "  <div id=\"df-f64f4239-38b4-4cdf-96a4-f11178c872f9\">\n",
              "    <div class=\"colab-df-container\">\n",
              "      <div>\n",
              "<style scoped>\n",
              "    .dataframe tbody tr th:only-of-type {\n",
              "        vertical-align: middle;\n",
              "    }\n",
              "\n",
              "    .dataframe tbody tr th {\n",
              "        vertical-align: top;\n",
              "    }\n",
              "\n",
              "    .dataframe thead th {\n",
              "        text-align: right;\n",
              "    }\n",
              "</style>\n",
              "<table border=\"1\" class=\"dataframe\">\n",
              "  <thead>\n",
              "    <tr style=\"text-align: right;\">\n",
              "      <th></th>\n",
              "      <th>id</th>\n",
              "      <th>kode_provinsi</th>\n",
              "      <th>nama_provinsi</th>\n",
              "      <th>kelompok_pekerjaan</th>\n",
              "      <th>jenis_kelamin</th>\n",
              "      <th>jumlah_penduduk</th>\n",
              "      <th>satuan</th>\n",
              "      <th>tahun</th>\n",
              "    </tr>\n",
              "  </thead>\n",
              "  <tbody>\n",
              "    <tr>\n",
              "      <th>0</th>\n",
              "      <td>1</td>\n",
              "      <td>32</td>\n",
              "      <td>JAWA BARAT</td>\n",
              "      <td>TIDAK/BELUM BEKERJA</td>\n",
              "      <td>LAKI-LAKI</td>\n",
              "      <td>5789236</td>\n",
              "      <td>JIWA</td>\n",
              "      <td>2015</td>\n",
              "    </tr>\n",
              "    <tr>\n",
              "      <th>1</th>\n",
              "      <td>2</td>\n",
              "      <td>32</td>\n",
              "      <td>JAWA BARAT</td>\n",
              "      <td>TIDAK/BELUM BEKERJA</td>\n",
              "      <td>PEREMPUAN</td>\n",
              "      <td>5110515</td>\n",
              "      <td>JIWA</td>\n",
              "      <td>2015</td>\n",
              "    </tr>\n",
              "    <tr>\n",
              "      <th>2</th>\n",
              "      <td>3</td>\n",
              "      <td>32</td>\n",
              "      <td>JAWA BARAT</td>\n",
              "      <td>MENGURUS RUMAH TANGGA</td>\n",
              "      <td>LAKI-LAKI</td>\n",
              "      <td>438</td>\n",
              "      <td>JIWA</td>\n",
              "      <td>2015</td>\n",
              "    </tr>\n",
              "    <tr>\n",
              "      <th>3</th>\n",
              "      <td>4</td>\n",
              "      <td>32</td>\n",
              "      <td>JAWA BARAT</td>\n",
              "      <td>MENGURUS RUMAH TANGGA</td>\n",
              "      <td>PEREMPUAN</td>\n",
              "      <td>9832208</td>\n",
              "      <td>JIWA</td>\n",
              "      <td>2015</td>\n",
              "    </tr>\n",
              "    <tr>\n",
              "      <th>4</th>\n",
              "      <td>5</td>\n",
              "      <td>32</td>\n",
              "      <td>JAWA BARAT</td>\n",
              "      <td>PELAJAR/MAHASISWA</td>\n",
              "      <td>LAKI-LAKI</td>\n",
              "      <td>3904150</td>\n",
              "      <td>JIWA</td>\n",
              "      <td>2015</td>\n",
              "    </tr>\n",
              "  </tbody>\n",
              "</table>\n",
              "</div>\n",
              "      <button class=\"colab-df-convert\" onclick=\"convertToInteractive('df-f64f4239-38b4-4cdf-96a4-f11178c872f9')\"\n",
              "              title=\"Convert this dataframe to an interactive table.\"\n",
              "              style=\"display:none;\">\n",
              "        \n",
              "  <svg xmlns=\"http://www.w3.org/2000/svg\" height=\"24px\"viewBox=\"0 0 24 24\"\n",
              "       width=\"24px\">\n",
              "    <path d=\"M0 0h24v24H0V0z\" fill=\"none\"/>\n",
              "    <path d=\"M18.56 5.44l.94 2.06.94-2.06 2.06-.94-2.06-.94-.94-2.06-.94 2.06-2.06.94zm-11 1L8.5 8.5l.94-2.06 2.06-.94-2.06-.94L8.5 2.5l-.94 2.06-2.06.94zm10 10l.94 2.06.94-2.06 2.06-.94-2.06-.94-.94-2.06-.94 2.06-2.06.94z\"/><path d=\"M17.41 7.96l-1.37-1.37c-.4-.4-.92-.59-1.43-.59-.52 0-1.04.2-1.43.59L10.3 9.45l-7.72 7.72c-.78.78-.78 2.05 0 2.83L4 21.41c.39.39.9.59 1.41.59.51 0 1.02-.2 1.41-.59l7.78-7.78 2.81-2.81c.8-.78.8-2.07 0-2.86zM5.41 20L4 18.59l7.72-7.72 1.47 1.35L5.41 20z\"/>\n",
              "  </svg>\n",
              "      </button>\n",
              "      \n",
              "  <style>\n",
              "    .colab-df-container {\n",
              "      display:flex;\n",
              "      flex-wrap:wrap;\n",
              "      gap: 12px;\n",
              "    }\n",
              "\n",
              "    .colab-df-convert {\n",
              "      background-color: #E8F0FE;\n",
              "      border: none;\n",
              "      border-radius: 50%;\n",
              "      cursor: pointer;\n",
              "      display: none;\n",
              "      fill: #1967D2;\n",
              "      height: 32px;\n",
              "      padding: 0 0 0 0;\n",
              "      width: 32px;\n",
              "    }\n",
              "\n",
              "    .colab-df-convert:hover {\n",
              "      background-color: #E2EBFA;\n",
              "      box-shadow: 0px 1px 2px rgba(60, 64, 67, 0.3), 0px 1px 3px 1px rgba(60, 64, 67, 0.15);\n",
              "      fill: #174EA6;\n",
              "    }\n",
              "\n",
              "    [theme=dark] .colab-df-convert {\n",
              "      background-color: #3B4455;\n",
              "      fill: #D2E3FC;\n",
              "    }\n",
              "\n",
              "    [theme=dark] .colab-df-convert:hover {\n",
              "      background-color: #434B5C;\n",
              "      box-shadow: 0px 1px 3px 1px rgba(0, 0, 0, 0.15);\n",
              "      filter: drop-shadow(0px 1px 2px rgba(0, 0, 0, 0.3));\n",
              "      fill: #FFFFFF;\n",
              "    }\n",
              "  </style>\n",
              "\n",
              "      <script>\n",
              "        const buttonEl =\n",
              "          document.querySelector('#df-f64f4239-38b4-4cdf-96a4-f11178c872f9 button.colab-df-convert');\n",
              "        buttonEl.style.display =\n",
              "          google.colab.kernel.accessAllowed ? 'block' : 'none';\n",
              "\n",
              "        async function convertToInteractive(key) {\n",
              "          const element = document.querySelector('#df-f64f4239-38b4-4cdf-96a4-f11178c872f9');\n",
              "          const dataTable =\n",
              "            await google.colab.kernel.invokeFunction('convertToInteractive',\n",
              "                                                     [key], {});\n",
              "          if (!dataTable) return;\n",
              "\n",
              "          const docLinkHtml = 'Like what you see? Visit the ' +\n",
              "            '<a target=\"_blank\" href=https://colab.research.google.com/notebooks/data_table.ipynb>data table notebook</a>'\n",
              "            + ' to learn more about interactive tables.';\n",
              "          element.innerHTML = '';\n",
              "          dataTable['output_type'] = 'display_data';\n",
              "          await google.colab.output.renderOutput(dataTable, element);\n",
              "          const docLink = document.createElement('div');\n",
              "          docLink.innerHTML = docLinkHtml;\n",
              "          element.appendChild(docLink);\n",
              "        }\n",
              "      </script>\n",
              "    </div>\n",
              "  </div>\n",
              "  "
            ]
          },
          "metadata": {},
          "execution_count": 24
        }
      ]
    },
    {
      "cell_type": "code",
      "source": [
        "nums = ['id', 'kode_provinsi', 'jumlah_penduduk', 'tahun']\n",
        "cats = ['nama_provinsi', 'kelompok_pekerjaan', 'jenis_kelamin', 'satuan']"
      ],
      "metadata": {
        "id": "oH8wbuQ07nnD"
      },
      "execution_count": 25,
      "outputs": []
    },
    {
      "cell_type": "markdown",
      "source": [
        "# Missing Data"
      ],
      "metadata": {
        "id": "QSkuTGVS_f_B"
      }
    },
    {
      "cell_type": "code",
      "source": [
        "# jumlah entry NULL di setiap kolom\n",
        "df.isna().sum()"
      ],
      "metadata": {
        "colab": {
          "base_uri": "https://localhost:8080/"
        },
        "id": "SJEZCBB96WyL",
        "outputId": "543d1021-fd8e-48ac-e3d7-217c5a886e38"
      },
      "execution_count": 26,
      "outputs": [
        {
          "output_type": "execute_result",
          "data": {
            "text/plain": [
              "id                    0\n",
              "kode_provinsi         0\n",
              "nama_provinsi         0\n",
              "kelompok_pekerjaan    0\n",
              "jenis_kelamin         0\n",
              "jumlah_penduduk       0\n",
              "satuan                0\n",
              "tahun                 0\n",
              "dtype: int64"
            ]
          },
          "metadata": {},
          "execution_count": 26
        }
      ]
    },
    {
      "cell_type": "markdown",
      "source": [
        "Tidak ada Data yang Kosong"
      ],
      "metadata": {
        "id": "lUuPo1Ow_rTR"
      }
    },
    {
      "cell_type": "code",
      "source": [
        "# cek jumlah duplicated rows\n",
        "# dari semua kolom\n",
        "df.duplicated().sum()"
      ],
      "metadata": {
        "colab": {
          "base_uri": "https://localhost:8080/"
        },
        "id": "k0jYEcY87Mc6",
        "outputId": "87b0776b-f563-48a8-ed02-6cb2afab225b"
      },
      "execution_count": 29,
      "outputs": [
        {
          "output_type": "execute_result",
          "data": {
            "text/plain": [
              "0"
            ]
          },
          "metadata": {},
          "execution_count": 29
        }
      ]
    },
    {
      "cell_type": "markdown",
      "source": [
        "Tidak ada Duplikasi Data"
      ],
      "metadata": {
        "id": "_wGqvGBg_4w8"
      }
    },
    {
      "cell_type": "markdown",
      "source": [
        "# Outliers Removal\n",
        "Menggunakan konsep IQR"
      ],
      "metadata": {
        "id": "OavRr4CjANlz"
      }
    },
    {
      "cell_type": "code",
      "source": [
        "print(f'Jumlah baris sebelum memfilter outlier: {len(df)}')\n",
        "\n",
        "for col in ['jumlah_penduduk','tahun']:\n",
        "  Q1 = df[col].quantile(0.25)\n",
        "  Q3 = df[col].quantile(0.75)\n",
        "  IQR = Q3-Q1\n",
        "  low_limit = Q1 - 1.5*IQR\n",
        "  high_limit = Q3 + 1.5*IQR\n",
        "  df = df[(df[col] >= low_limit) & (df[col] <= high_limit)]\n",
        "\n",
        "print(f'Jumlah baris setelah memfilter outlier: {len(df)}')"
      ],
      "metadata": {
        "colab": {
          "base_uri": "https://localhost:8080/"
        },
        "id": "jxaOkjif7SRv",
        "outputId": "7126c8b0-d0b6-404e-ba9f-ce42aa3275fd"
      },
      "execution_count": 31,
      "outputs": [
        {
          "output_type": "stream",
          "name": "stdout",
          "text": [
            "Jumlah baris sebelum memfilter outlier: 196\n",
            "Jumlah baris setelah memfilter outlier: 189\n"
          ]
        }
      ]
    },
    {
      "cell_type": "code",
      "source": [
        "# pengecekan nilai/entri dari kolom-kolom kategorikal\n",
        "\n",
        "for col in cats:\n",
        "  print(f'value counts of column {col}')\n",
        "  print(df[col].value_counts())\n",
        "  print('---'*10, '\\n')"
      ],
      "metadata": {
        "colab": {
          "base_uri": "https://localhost:8080/"
        },
        "id": "KZwLNTh37cOT",
        "outputId": "7556c608-376b-4eb0-f2bc-aa6118ea17b9"
      },
      "execution_count": 32,
      "outputs": [
        {
          "output_type": "stream",
          "name": "stdout",
          "text": [
            "value counts of column nama_provinsi\n",
            "JAWA BARAT    189\n",
            "Name: nama_provinsi, dtype: int64\n",
            "------------------------------ \n",
            "\n",
            "value counts of column kelompok_pekerjaan\n",
            "TIDAK/BELUM BEKERJA                        14\n",
            "PELAJAR/MAHASISWA                          14\n",
            "PENSIUNAN                                  14\n",
            "PNS/TNI/POLRI                              14\n",
            "KARYAWAN                                   14\n",
            "BURUH/TUKANG/INDUSTRI/KONSTRUKSI           14\n",
            "KELOMPOK PROFESI                           14\n",
            "BIDANG PENDIDIKAN DAN KESEHATAN            14\n",
            "ROHANIAWAN                                 14\n",
            "PERTANIA/PERIKANAN/PERTERNAKAN             14\n",
            "PEJABAT NEGRA/DAERAH/DEWAN/PEMERINTAHAN    14\n",
            "WIRASWASTA                                 14\n",
            "LAINNYA                                    14\n",
            "MENGURUS RUMAH TANGGA                       7\n",
            "Name: kelompok_pekerjaan, dtype: int64\n",
            "------------------------------ \n",
            "\n",
            "value counts of column jenis_kelamin\n",
            "LAKI-LAKI    98\n",
            "PEREMPUAN    91\n",
            "Name: jenis_kelamin, dtype: int64\n",
            "------------------------------ \n",
            "\n",
            "value counts of column satuan\n",
            "JIWA    189\n",
            "Name: satuan, dtype: int64\n",
            "------------------------------ \n",
            "\n"
          ]
        }
      ]
    },
    {
      "cell_type": "code",
      "source": [
        "# drop kolom provinsi\n",
        "df = df.drop(columns='satuan')"
      ],
      "metadata": {
        "id": "OP6UCj6d8Jzw"
      },
      "execution_count": 33,
      "outputs": []
    },
    {
      "cell_type": "code",
      "source": [
        "# label encoding\n",
        "# untuk kolom jenis_kelamin\n",
        "mapping_jenis_kelamin = {\n",
        "    'LAKI-LAKI' : 0,\n",
        "    'PEREMPUAN' : 1\n",
        "}\n",
        "df['jenis_kelamin'] = df['jenis_kelamin'].map(mapping_jenis_kelamin)"
      ],
      "metadata": {
        "id": "nWaeBDnN8VPO"
      },
      "execution_count": 34,
      "outputs": []
    },
    {
      "cell_type": "code",
      "source": [
        "df.head()"
      ],
      "metadata": {
        "colab": {
          "base_uri": "https://localhost:8080/",
          "height": 206
        },
        "id": "6xZJmV4881s2",
        "outputId": "165b339b-024c-4982-dc53-389502b36074"
      },
      "execution_count": 35,
      "outputs": [
        {
          "output_type": "execute_result",
          "data": {
            "text/plain": [
              "   id  kode_provinsi nama_provinsi     kelompok_pekerjaan  jenis_kelamin  \\\n",
              "0   1             32    JAWA BARAT    TIDAK/BELUM BEKERJA              0   \n",
              "1   2             32    JAWA BARAT    TIDAK/BELUM BEKERJA              1   \n",
              "2   3             32    JAWA BARAT  MENGURUS RUMAH TANGGA              0   \n",
              "4   5             32    JAWA BARAT      PELAJAR/MAHASISWA              0   \n",
              "5   6             32    JAWA BARAT      PELAJAR/MAHASISWA              1   \n",
              "\n",
              "   jumlah_penduduk  tahun  \n",
              "0          5789236   2015  \n",
              "1          5110515   2015  \n",
              "2              438   2015  \n",
              "4          3904150   2015  \n",
              "5          3534924   2015  "
            ],
            "text/html": [
              "\n",
              "  <div id=\"df-91e5f019-186d-4d67-a0b0-6f296dbda5df\">\n",
              "    <div class=\"colab-df-container\">\n",
              "      <div>\n",
              "<style scoped>\n",
              "    .dataframe tbody tr th:only-of-type {\n",
              "        vertical-align: middle;\n",
              "    }\n",
              "\n",
              "    .dataframe tbody tr th {\n",
              "        vertical-align: top;\n",
              "    }\n",
              "\n",
              "    .dataframe thead th {\n",
              "        text-align: right;\n",
              "    }\n",
              "</style>\n",
              "<table border=\"1\" class=\"dataframe\">\n",
              "  <thead>\n",
              "    <tr style=\"text-align: right;\">\n",
              "      <th></th>\n",
              "      <th>id</th>\n",
              "      <th>kode_provinsi</th>\n",
              "      <th>nama_provinsi</th>\n",
              "      <th>kelompok_pekerjaan</th>\n",
              "      <th>jenis_kelamin</th>\n",
              "      <th>jumlah_penduduk</th>\n",
              "      <th>tahun</th>\n",
              "    </tr>\n",
              "  </thead>\n",
              "  <tbody>\n",
              "    <tr>\n",
              "      <th>0</th>\n",
              "      <td>1</td>\n",
              "      <td>32</td>\n",
              "      <td>JAWA BARAT</td>\n",
              "      <td>TIDAK/BELUM BEKERJA</td>\n",
              "      <td>0</td>\n",
              "      <td>5789236</td>\n",
              "      <td>2015</td>\n",
              "    </tr>\n",
              "    <tr>\n",
              "      <th>1</th>\n",
              "      <td>2</td>\n",
              "      <td>32</td>\n",
              "      <td>JAWA BARAT</td>\n",
              "      <td>TIDAK/BELUM BEKERJA</td>\n",
              "      <td>1</td>\n",
              "      <td>5110515</td>\n",
              "      <td>2015</td>\n",
              "    </tr>\n",
              "    <tr>\n",
              "      <th>2</th>\n",
              "      <td>3</td>\n",
              "      <td>32</td>\n",
              "      <td>JAWA BARAT</td>\n",
              "      <td>MENGURUS RUMAH TANGGA</td>\n",
              "      <td>0</td>\n",
              "      <td>438</td>\n",
              "      <td>2015</td>\n",
              "    </tr>\n",
              "    <tr>\n",
              "      <th>4</th>\n",
              "      <td>5</td>\n",
              "      <td>32</td>\n",
              "      <td>JAWA BARAT</td>\n",
              "      <td>PELAJAR/MAHASISWA</td>\n",
              "      <td>0</td>\n",
              "      <td>3904150</td>\n",
              "      <td>2015</td>\n",
              "    </tr>\n",
              "    <tr>\n",
              "      <th>5</th>\n",
              "      <td>6</td>\n",
              "      <td>32</td>\n",
              "      <td>JAWA BARAT</td>\n",
              "      <td>PELAJAR/MAHASISWA</td>\n",
              "      <td>1</td>\n",
              "      <td>3534924</td>\n",
              "      <td>2015</td>\n",
              "    </tr>\n",
              "  </tbody>\n",
              "</table>\n",
              "</div>\n",
              "      <button class=\"colab-df-convert\" onclick=\"convertToInteractive('df-91e5f019-186d-4d67-a0b0-6f296dbda5df')\"\n",
              "              title=\"Convert this dataframe to an interactive table.\"\n",
              "              style=\"display:none;\">\n",
              "        \n",
              "  <svg xmlns=\"http://www.w3.org/2000/svg\" height=\"24px\"viewBox=\"0 0 24 24\"\n",
              "       width=\"24px\">\n",
              "    <path d=\"M0 0h24v24H0V0z\" fill=\"none\"/>\n",
              "    <path d=\"M18.56 5.44l.94 2.06.94-2.06 2.06-.94-2.06-.94-.94-2.06-.94 2.06-2.06.94zm-11 1L8.5 8.5l.94-2.06 2.06-.94-2.06-.94L8.5 2.5l-.94 2.06-2.06.94zm10 10l.94 2.06.94-2.06 2.06-.94-2.06-.94-.94-2.06-.94 2.06-2.06.94z\"/><path d=\"M17.41 7.96l-1.37-1.37c-.4-.4-.92-.59-1.43-.59-.52 0-1.04.2-1.43.59L10.3 9.45l-7.72 7.72c-.78.78-.78 2.05 0 2.83L4 21.41c.39.39.9.59 1.41.59.51 0 1.02-.2 1.41-.59l7.78-7.78 2.81-2.81c.8-.78.8-2.07 0-2.86zM5.41 20L4 18.59l7.72-7.72 1.47 1.35L5.41 20z\"/>\n",
              "  </svg>\n",
              "      </button>\n",
              "      \n",
              "  <style>\n",
              "    .colab-df-container {\n",
              "      display:flex;\n",
              "      flex-wrap:wrap;\n",
              "      gap: 12px;\n",
              "    }\n",
              "\n",
              "    .colab-df-convert {\n",
              "      background-color: #E8F0FE;\n",
              "      border: none;\n",
              "      border-radius: 50%;\n",
              "      cursor: pointer;\n",
              "      display: none;\n",
              "      fill: #1967D2;\n",
              "      height: 32px;\n",
              "      padding: 0 0 0 0;\n",
              "      width: 32px;\n",
              "    }\n",
              "\n",
              "    .colab-df-convert:hover {\n",
              "      background-color: #E2EBFA;\n",
              "      box-shadow: 0px 1px 2px rgba(60, 64, 67, 0.3), 0px 1px 3px 1px rgba(60, 64, 67, 0.15);\n",
              "      fill: #174EA6;\n",
              "    }\n",
              "\n",
              "    [theme=dark] .colab-df-convert {\n",
              "      background-color: #3B4455;\n",
              "      fill: #D2E3FC;\n",
              "    }\n",
              "\n",
              "    [theme=dark] .colab-df-convert:hover {\n",
              "      background-color: #434B5C;\n",
              "      box-shadow: 0px 1px 3px 1px rgba(0, 0, 0, 0.15);\n",
              "      filter: drop-shadow(0px 1px 2px rgba(0, 0, 0, 0.3));\n",
              "      fill: #FFFFFF;\n",
              "    }\n",
              "  </style>\n",
              "\n",
              "      <script>\n",
              "        const buttonEl =\n",
              "          document.querySelector('#df-91e5f019-186d-4d67-a0b0-6f296dbda5df button.colab-df-convert');\n",
              "        buttonEl.style.display =\n",
              "          google.colab.kernel.accessAllowed ? 'block' : 'none';\n",
              "\n",
              "        async function convertToInteractive(key) {\n",
              "          const element = document.querySelector('#df-91e5f019-186d-4d67-a0b0-6f296dbda5df');\n",
              "          const dataTable =\n",
              "            await google.colab.kernel.invokeFunction('convertToInteractive',\n",
              "                                                     [key], {});\n",
              "          if (!dataTable) return;\n",
              "\n",
              "          const docLinkHtml = 'Like what you see? Visit the ' +\n",
              "            '<a target=\"_blank\" href=https://colab.research.google.com/notebooks/data_table.ipynb>data table notebook</a>'\n",
              "            + ' to learn more about interactive tables.';\n",
              "          element.innerHTML = '';\n",
              "          dataTable['output_type'] = 'display_data';\n",
              "          await google.colab.output.renderOutput(dataTable, element);\n",
              "          const docLink = document.createElement('div');\n",
              "          docLink.innerHTML = docLinkHtml;\n",
              "          element.appendChild(docLink);\n",
              "        }\n",
              "      </script>\n",
              "    </div>\n",
              "  </div>\n",
              "  "
            ]
          },
          "metadata": {},
          "execution_count": 35
        }
      ]
    },
    {
      "cell_type": "code",
      "source": [
        "df.info()"
      ],
      "metadata": {
        "colab": {
          "base_uri": "https://localhost:8080/"
        },
        "id": "PbDeyWf38_xT",
        "outputId": "c9ddf15f-f05e-408c-8a0e-9132995a6505"
      },
      "execution_count": 36,
      "outputs": [
        {
          "output_type": "stream",
          "name": "stdout",
          "text": [
            "<class 'pandas.core.frame.DataFrame'>\n",
            "Int64Index: 189 entries, 0 to 195\n",
            "Data columns (total 7 columns):\n",
            " #   Column              Non-Null Count  Dtype \n",
            "---  ------              --------------  ----- \n",
            " 0   id                  189 non-null    int64 \n",
            " 1   kode_provinsi       189 non-null    int64 \n",
            " 2   nama_provinsi       189 non-null    object\n",
            " 3   kelompok_pekerjaan  189 non-null    object\n",
            " 4   jenis_kelamin       189 non-null    int64 \n",
            " 5   jumlah_penduduk     189 non-null    int64 \n",
            " 6   tahun               189 non-null    int64 \n",
            "dtypes: int64(5), object(2)\n",
            "memory usage: 11.8+ KB\n"
          ]
        }
      ]
    },
    {
      "cell_type": "markdown",
      "source": [
        "# Data Wrangling"
      ],
      "metadata": {
        "id": "0CMJxbIWFxi-"
      }
    },
    {
      "cell_type": "code",
      "source": [
        "csv_data = pd.read_csv('/content/disdukcapil-2-od_15922_jml_penduduk__kelompok_pekerjaan_jk_data.csv')\n",
        " \n",
        "print(csv_data.describe(exclude=\"O\"))\n"
      ],
      "metadata": {
        "colab": {
          "base_uri": "https://localhost:8080/"
        },
        "id": "zeK2lXKfFotU",
        "outputId": "c9432aeb-70b7-4970-de47-65dcddb78eb1"
      },
      "execution_count": 45,
      "outputs": [
        {
          "output_type": "stream",
          "name": "stdout",
          "text": [
            "              id  kode_provinsi  jumlah_penduduk        tahun\n",
            "count  196.00000          196.0     1.960000e+02   196.000000\n",
            "mean    98.50000           32.0     1.617186e+06  2018.000000\n",
            "std     56.72448            0.0     2.503867e+06     2.005122\n",
            "min      1.00000           32.0     0.000000e+00  2015.000000\n",
            "25%     49.75000           32.0     7.409625e+04  2016.000000\n",
            "50%     98.50000           32.0     2.366590e+05  2018.000000\n",
            "75%    147.25000           32.0     3.190226e+06  2020.000000\n",
            "max    196.00000           32.0     1.159792e+07  2021.000000\n"
          ]
        }
      ]
    },
    {
      "cell_type": "code",
      "source": [
        "print(csv_data.head(10))\n",
        "csv_data=csv_data.fillna(csv_data.mean())\n",
        "print(\"Dataset yang sudah diproses Handling Missing Values dengan Mean :\")\n",
        "print(csv_data.head(10))"
      ],
      "metadata": {
        "colab": {
          "base_uri": "https://localhost:8080/"
        },
        "id": "zQaZKvWoGVeS",
        "outputId": "7b3d164a-4fcc-4a7e-ba1d-1d43cd6062e6"
      },
      "execution_count": 48,
      "outputs": [
        {
          "output_type": "stream",
          "name": "stdout",
          "text": [
            "   id  kode_provinsi nama_provinsi     kelompok_pekerjaan jenis_kelamin  \\\n",
            "0   1             32    JAWA BARAT    TIDAK/BELUM BEKERJA     LAKI-LAKI   \n",
            "1   2             32    JAWA BARAT    TIDAK/BELUM BEKERJA     PEREMPUAN   \n",
            "2   3             32    JAWA BARAT  MENGURUS RUMAH TANGGA     LAKI-LAKI   \n",
            "3   4             32    JAWA BARAT  MENGURUS RUMAH TANGGA     PEREMPUAN   \n",
            "4   5             32    JAWA BARAT      PELAJAR/MAHASISWA     LAKI-LAKI   \n",
            "5   6             32    JAWA BARAT      PELAJAR/MAHASISWA     PEREMPUAN   \n",
            "6   7             32    JAWA BARAT              PENSIUNAN     LAKI-LAKI   \n",
            "7   8             32    JAWA BARAT              PENSIUNAN     PEREMPUAN   \n",
            "8   9             32    JAWA BARAT          PNS/TNI/POLRI     LAKI-LAKI   \n",
            "9  10             32    JAWA BARAT          PNS/TNI/POLRI     PEREMPUAN   \n",
            "\n",
            "   jumlah_penduduk satuan  tahun  \n",
            "0          5789236   JIWA   2015  \n",
            "1          5110515   JIWA   2015  \n",
            "2              438   JIWA   2015  \n",
            "3          9832208   JIWA   2015  \n",
            "4          3904150   JIWA   2015  \n",
            "5          3534924   JIWA   2015  \n",
            "6           216570   JIWA   2015  \n",
            "7            82714   JIWA   2015  \n",
            "8           430307   JIWA   2015  \n",
            "9           213953   JIWA   2015  \n",
            "Dataset yang sudah diproses Handling Missing Values dengan Mean :\n",
            "   id  kode_provinsi nama_provinsi     kelompok_pekerjaan jenis_kelamin  \\\n",
            "0   1             32    JAWA BARAT    TIDAK/BELUM BEKERJA     LAKI-LAKI   \n",
            "1   2             32    JAWA BARAT    TIDAK/BELUM BEKERJA     PEREMPUAN   \n",
            "2   3             32    JAWA BARAT  MENGURUS RUMAH TANGGA     LAKI-LAKI   \n",
            "3   4             32    JAWA BARAT  MENGURUS RUMAH TANGGA     PEREMPUAN   \n",
            "4   5             32    JAWA BARAT      PELAJAR/MAHASISWA     LAKI-LAKI   \n",
            "5   6             32    JAWA BARAT      PELAJAR/MAHASISWA     PEREMPUAN   \n",
            "6   7             32    JAWA BARAT              PENSIUNAN     LAKI-LAKI   \n",
            "7   8             32    JAWA BARAT              PENSIUNAN     PEREMPUAN   \n",
            "8   9             32    JAWA BARAT          PNS/TNI/POLRI     LAKI-LAKI   \n",
            "9  10             32    JAWA BARAT          PNS/TNI/POLRI     PEREMPUAN   \n",
            "\n",
            "   jumlah_penduduk satuan  tahun  \n",
            "0          5789236   JIWA   2015  \n",
            "1          5110515   JIWA   2015  \n",
            "2              438   JIWA   2015  \n",
            "3          9832208   JIWA   2015  \n",
            "4          3904150   JIWA   2015  \n",
            "5          3534924   JIWA   2015  \n",
            "6           216570   JIWA   2015  \n",
            "7            82714   JIWA   2015  \n",
            "8           430307   JIWA   2015  \n",
            "9           213953   JIWA   2015  \n"
          ]
        },
        {
          "output_type": "stream",
          "name": "stderr",
          "text": [
            "/usr/local/lib/python3.7/dist-packages/ipykernel_launcher.py:2: FutureWarning: Dropping of nuisance columns in DataFrame reductions (with 'numeric_only=None') is deprecated; in a future version this will raise TypeError.  Select only valid columns before calling the reduction.\n",
            "  \n"
          ]
        }
      ]
    }
  ]
}